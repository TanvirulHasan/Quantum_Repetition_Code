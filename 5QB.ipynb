{
 "cells": [
  {
   "cell_type": "code",
   "execution_count": 1,
   "metadata": {
    "colab": {
     "base_uri": "https://localhost:8080/"
    },
    "id": "cNoQZe-ifFx9",
    "outputId": "0184ee55-55b8-4076-9bbb-89a03b2eae6c"
   },
   "outputs": [
    {
     "name": "stdout",
     "output_type": "stream",
     "text": [
      "Looking in indexes: https://pypi.org/simple, https://us-python.pkg.dev/colab-wheels/public/simple/\n",
      "Collecting qiskit\n",
      "  Downloading qiskit-0.37.1.tar.gz (13 kB)\n",
      "Collecting qiskit-terra==0.21.1\n",
      "  Downloading qiskit_terra-0.21.1-cp37-cp37m-manylinux_2_17_x86_64.manylinux2014_x86_64.whl (6.7 MB)\n",
      "\u001b[K     |████████████████████████████████| 6.7 MB 30.3 MB/s \n",
      "\u001b[?25hCollecting qiskit-aer==0.10.4\n",
      "  Downloading qiskit_aer-0.10.4-cp37-cp37m-manylinux_2_12_x86_64.manylinux2010_x86_64.whl (18.0 MB)\n",
      "\u001b[K     |████████████████████████████████| 18.0 MB 322 kB/s \n",
      "\u001b[?25hCollecting qiskit-ibmq-provider==0.19.2\n",
      "  Downloading qiskit_ibmq_provider-0.19.2-py3-none-any.whl (240 kB)\n",
      "\u001b[K     |████████████████████████████████| 240 kB 51.0 MB/s \n",
      "\u001b[?25hRequirement already satisfied: numpy>=1.16.3 in /usr/local/lib/python3.7/dist-packages (from qiskit-aer==0.10.4->qiskit) (1.21.6)\n",
      "Requirement already satisfied: scipy>=1.0 in /usr/local/lib/python3.7/dist-packages (from qiskit-aer==0.10.4->qiskit) (1.7.3)\n",
      "Requirement already satisfied: python-dateutil>=2.8.0 in /usr/local/lib/python3.7/dist-packages (from qiskit-ibmq-provider==0.19.2->qiskit) (2.8.2)\n",
      "Requirement already satisfied: requests>=2.19 in /usr/local/lib/python3.7/dist-packages (from qiskit-ibmq-provider==0.19.2->qiskit) (2.23.0)\n",
      "Collecting websockets>=10.0\n",
      "  Downloading websockets-10.3-cp37-cp37m-manylinux_2_5_x86_64.manylinux1_x86_64.manylinux_2_12_x86_64.manylinux2010_x86_64.whl (112 kB)\n",
      "\u001b[K     |████████████████████████████████| 112 kB 56.5 MB/s \n",
      "\u001b[?25hCollecting websocket-client>=1.0.1\n",
      "  Downloading websocket_client-1.3.3-py3-none-any.whl (54 kB)\n",
      "\u001b[K     |████████████████████████████████| 54 kB 2.9 MB/s \n",
      "\u001b[?25hRequirement already satisfied: urllib3>=1.21.1 in /usr/local/lib/python3.7/dist-packages (from qiskit-ibmq-provider==0.19.2->qiskit) (1.24.3)\n",
      "Collecting requests-ntlm>=1.1.0\n",
      "  Downloading requests_ntlm-1.1.0-py2.py3-none-any.whl (5.7 kB)\n",
      "Collecting ply>=3.10\n",
      "  Downloading ply-3.11-py2.py3-none-any.whl (49 kB)\n",
      "\u001b[K     |████████████████████████████████| 49 kB 6.3 MB/s \n",
      "\u001b[?25hRequirement already satisfied: sympy>=1.3 in /usr/local/lib/python3.7/dist-packages (from qiskit-terra==0.21.1->qiskit) (1.7.1)\n",
      "Requirement already satisfied: typing-extensions in /usr/local/lib/python3.7/dist-packages (from qiskit-terra==0.21.1->qiskit) (4.1.1)\n",
      "Collecting tweedledum<2.0,>=1.1\n",
      "  Downloading tweedledum-1.1.1-cp37-cp37m-manylinux_2_12_x86_64.manylinux2010_x86_64.whl (943 kB)\n",
      "\u001b[K     |████████████████████████████████| 943 kB 51.4 MB/s \n",
      "\u001b[?25hRequirement already satisfied: psutil>=5 in /usr/local/lib/python3.7/dist-packages (from qiskit-terra==0.21.1->qiskit) (5.4.8)\n",
      "Collecting stevedore>=3.0.0\n",
      "  Downloading stevedore-3.5.0-py3-none-any.whl (49 kB)\n",
      "\u001b[K     |████████████████████████████████| 49 kB 6.9 MB/s \n",
      "\u001b[?25hCollecting shared-memory38\n",
      "  Downloading shared_memory38-0.1.2-cp37-cp37m-manylinux_2_5_x86_64.manylinux1_x86_64.whl (25 kB)\n",
      "Collecting retworkx>=0.11.0\n",
      "  Downloading retworkx-0.11.0-cp37-cp37m-manylinux_2_5_x86_64.manylinux1_x86_64.manylinux_2_12_x86_64.manylinux2010_x86_64.whl (1.6 MB)\n",
      "\u001b[K     |████████████████████████████████| 1.6 MB 46.6 MB/s \n",
      "\u001b[?25hCollecting symengine>=0.9\n",
      "  Downloading symengine-0.9.2-cp37-cp37m-manylinux2010_x86_64.whl (37.5 MB)\n",
      "\u001b[K     |████████████████████████████████| 37.5 MB 1.3 MB/s \n",
      "\u001b[?25hRequirement already satisfied: dill>=0.3 in /usr/local/lib/python3.7/dist-packages (from qiskit-terra==0.21.1->qiskit) (0.3.5.1)\n",
      "Requirement already satisfied: six>=1.5 in /usr/local/lib/python3.7/dist-packages (from python-dateutil>=2.8.0->qiskit-ibmq-provider==0.19.2->qiskit) (1.15.0)\n",
      "Requirement already satisfied: idna<3,>=2.5 in /usr/local/lib/python3.7/dist-packages (from requests>=2.19->qiskit-ibmq-provider==0.19.2->qiskit) (2.10)\n",
      "Requirement already satisfied: chardet<4,>=3.0.2 in /usr/local/lib/python3.7/dist-packages (from requests>=2.19->qiskit-ibmq-provider==0.19.2->qiskit) (3.0.4)\n",
      "Requirement already satisfied: certifi>=2017.4.17 in /usr/local/lib/python3.7/dist-packages (from requests>=2.19->qiskit-ibmq-provider==0.19.2->qiskit) (2022.6.15)\n",
      "Collecting ntlm-auth>=1.0.2\n",
      "  Downloading ntlm_auth-1.5.0-py2.py3-none-any.whl (29 kB)\n",
      "Collecting cryptography>=1.3\n",
      "  Downloading cryptography-37.0.4-cp36-abi3-manylinux_2_24_x86_64.whl (4.1 MB)\n",
      "\u001b[K     |████████████████████████████████| 4.1 MB 53.9 MB/s \n",
      "\u001b[?25hRequirement already satisfied: cffi>=1.12 in /usr/local/lib/python3.7/dist-packages (from cryptography>=1.3->requests-ntlm>=1.1.0->qiskit-ibmq-provider==0.19.2->qiskit) (1.15.1)\n",
      "Requirement already satisfied: pycparser in /usr/local/lib/python3.7/dist-packages (from cffi>=1.12->cryptography>=1.3->requests-ntlm>=1.1.0->qiskit-ibmq-provider==0.19.2->qiskit) (2.21)\n",
      "Requirement already satisfied: importlib-metadata>=1.7.0 in /usr/local/lib/python3.7/dist-packages (from stevedore>=3.0.0->qiskit-terra==0.21.1->qiskit) (4.12.0)\n",
      "Collecting pbr!=2.1.0,>=2.0.0\n",
      "  Downloading pbr-5.10.0-py2.py3-none-any.whl (112 kB)\n",
      "\u001b[K     |████████████████████████████████| 112 kB 59.4 MB/s \n",
      "\u001b[?25hRequirement already satisfied: zipp>=0.5 in /usr/local/lib/python3.7/dist-packages (from importlib-metadata>=1.7.0->stevedore>=3.0.0->qiskit-terra==0.21.1->qiskit) (3.8.1)\n",
      "Requirement already satisfied: mpmath>=0.19 in /usr/local/lib/python3.7/dist-packages (from sympy>=1.3->qiskit-terra==0.21.1->qiskit) (1.2.1)\n",
      "Building wheels for collected packages: qiskit\n",
      "  Building wheel for qiskit (setup.py) ... \u001b[?25l\u001b[?25hdone\n",
      "  Created wheel for qiskit: filename=qiskit-0.37.1-py3-none-any.whl size=12067 sha256=8a73ad54da3a4b6d4429757a49eae01b69c6821bc5efa643d52c87921245f130\n",
      "  Stored in directory: /root/.cache/pip/wheels/1c/3c/a3/bf8c2931e17937329c34a88b76cb88cbb7f9f2692fa7cfbcd1\n",
      "Successfully built qiskit\n",
      "Installing collected packages: pbr, tweedledum, symengine, stevedore, shared-memory38, retworkx, ply, ntlm-auth, cryptography, websockets, websocket-client, requests-ntlm, qiskit-terra, qiskit-ibmq-provider, qiskit-aer, qiskit\n",
      "Successfully installed cryptography-37.0.4 ntlm-auth-1.5.0 pbr-5.10.0 ply-3.11 qiskit-0.37.1 qiskit-aer-0.10.4 qiskit-ibmq-provider-0.19.2 qiskit-terra-0.21.1 requests-ntlm-1.1.0 retworkx-0.11.0 shared-memory38-0.1.2 stevedore-3.5.0 symengine-0.9.2 tweedledum-1.1.1 websocket-client-1.3.3 websockets-10.3\n",
      "Looking in indexes: https://pypi.org/simple, https://us-python.pkg.dev/colab-wheels/public/simple/\n",
      "Collecting pylatexenc\n",
      "  Downloading pylatexenc-2.10.tar.gz (162 kB)\n",
      "\u001b[K     |████████████████████████████████| 162 kB 27.2 MB/s \n",
      "\u001b[?25hBuilding wheels for collected packages: pylatexenc\n",
      "  Building wheel for pylatexenc (setup.py) ... \u001b[?25l\u001b[?25hdone\n",
      "  Created wheel for pylatexenc: filename=pylatexenc-2.10-py3-none-any.whl size=136835 sha256=e88c6f2251c37d8d0318b86488853cfbb1dae92ae19a44a0141d7dbb0a88a21c\n",
      "  Stored in directory: /root/.cache/pip/wheels/f1/8a/f5/33ee79d4473eb201b519fa40f989b842e373237395a3421f52\n",
      "Successfully built pylatexenc\n",
      "Installing collected packages: pylatexenc\n",
      "Successfully installed pylatexenc-2.10\n"
     ]
    }
   ],
   "source": [
    "!pip install qiskit\n",
    "!pip install pylatexenc"
   ]
  },
  {
   "cell_type": "code",
   "execution_count": 2,
   "metadata": {
    "id": "WBCeU83BhoI8"
   },
   "outputs": [],
   "source": [
    "from numpy import *\n",
    "from matplotlib.pyplot import *"
   ]
  },
  {
   "cell_type": "code",
   "execution_count": 3,
   "metadata": {
    "id": "782I8k1HhqXQ"
   },
   "outputs": [],
   "source": [
    "from qiskit import QuantumRegister, ClassicalRegister, IBMQ\n",
    "from qiskit import QuantumCircuit, Aer, transpile, assemble, execute\n",
    "from qiskit.tools.jupyter import *\n",
    "from qiskit.visualization import *\n",
    "from qiskit.providers.aer import QasmSimulator"
   ]
  },
  {
   "cell_type": "code",
   "execution_count": 4,
   "metadata": {
    "colab": {
     "base_uri": "https://localhost:8080/",
     "height": 322
    },
    "id": "EebGdS00-gAP",
    "outputId": "02f5dff3-4852-4d89-d327-88caa9e1070b"
   },
   "outputs": [
    {
     "data": {
      "image/png": "[encoded data removed]",
      "text/plain": [
       "<Figure size 1589.26x385.28 with 1 Axes>"
      ]
     },
     "execution_count": 4,
     "metadata": {},
     "output_type": "execute_result"
    }
   ],
   "source": [
    "cl= ClassicalRegister(5)\n",
    "alice_qubit= QuantumRegister(1, 'alice__qubit')\n",
    "ancilla_qubit= QuantumRegister(4, 'ancilla_qubit_alice')\n",
    "rep_ckt= QuantumCircuit(alice_qubit, ancilla_qubit, cl)\n",
    "\n",
    "#encoding\n",
    "\n",
    "rep_ckt.cx(alice_qubit, ancilla_qubit)\n",
    "rep_ckt.barrier()\n",
    "\n",
    "rep_ckt.x([3,4])\n",
    "rep_ckt.barrier()\n",
    "\n",
    "#Decoding\n",
    "rep_ckt.cx(alice_qubit, ancilla_qubit)\n",
    "\n",
    "rep_ckt.mct([1,2,3,4],0)\n",
    "rep_ckt.mct([2,3,4],0)\n",
    "rep_ckt.mct([1,3,4],0)\n",
    "rep_ckt.mct([1,2,4],0)\n",
    "rep_ckt.mct([1,2,3],0)\n",
    "\n",
    "rep_ckt.barrier()\n",
    "\n",
    "rep_ckt.measure([0,1,2,3,4],[4,3,2,1,0])\n",
    "\n",
    "#rep_ckt.measure(0,4)\n",
    "#rep_ckt.measure(1,3)\n",
    "#rep_ckt.measure(2,2)\n",
    "#rep_ckt.measure(3,1)\n",
    "#rep_ckt.measure(4,0)\n",
    "\n",
    "\n",
    "rep_ckt.draw(output='mpl')"
   ]
  },
  {
   "cell_type": "code",
   "execution_count": 5,
   "metadata": {
    "colab": {
     "base_uri": "https://localhost:8080/"
    },
    "id": "SXX15AcCvNac",
    "outputId": "834a2eab-f38c-4a66-c37a-5e0bc83d33a2"
   },
   "outputs": [
    {
     "name": "stdout",
     "output_type": "stream",
     "text": [
      "{'00011': 64}\n"
     ]
    }
   ],
   "source": [
    "sim = Aer.get_backend('qasm_simulator') \n",
    "res= execute(rep_ckt, backend=sim, shots=64).result().get_counts()\n",
    "print(res)"
   ]
  },
  {
   "cell_type": "code",
   "execution_count": 6,
   "metadata": {
    "id": "rFR2IPN3hv3I"
   },
   "outputs": [],
   "source": [
    "result=[]\n",
    "for a1 in range(2):\n",
    "   for a2 in range(2):\n",
    "      for a3 in range(2):\n",
    "         for a4 in range(2):\n",
    "            for a5 in range(2):\n",
    "                       \n",
    "                 a=[\"I\",\"I\",\"I\",\"I\",\"I\"]\n",
    "                             \n",
    "\n",
    "                 alice_qubit= QuantumRegister(1, 'alice__qubit')\n",
    "                 lq1= QuantumRegister(4, 'ancilla_qubit_alice')\n",
    "                 cr= ClassicalRegister(1)\n",
    "                 repetition_code_qc= QuantumCircuit(alice_qubit, ancilla_qubit, cr)\n",
    "                                            \n",
    "                 #Encoding \n",
    "                                              \n",
    "                 rep_ckt.cx(alice_qubit, ancilla_qubit)\n",
    "                 rep_ckt.barrier()\n",
    "\n",
    "                     \n",
    "                                            \n",
    "                 repetition_code_qc.barrier()\n",
    "                                            \n",
    "                 if a1:\n",
    "                   a[0]=\"X\"\n",
    "                   repetition_code_qc.x(0)\n",
    "                 if a2:\n",
    "                   a[1]=\"X\"\n",
    "                   repetition_code_qc.x(1)\n",
    "                 if a3:\n",
    "                   a[2]=\"X\"\n",
    "                   repetition_code_qc.x(2)\n",
    "                 if a4:\n",
    "                   a[3]=\"X\"\n",
    "                   repetition_code_qc.x(3)\n",
    "                 if a5:\n",
    "                   a[4]=\"X\"\n",
    "                   repetition_code_qc.x(4)\n",
    "                                                \n",
    "                                            \n",
    "                 #Decoding                          \n",
    "                 \n",
    "                 repetition_code_qc.cx(alice_qubit, ancilla_qubit)\n",
    "                 \n",
    "                 repetition_code_qc.mct([1,2,3,4],0)\n",
    "                 repetition_code_qc.mct([2,3,4],0)\n",
    "                 repetition_code_qc.mct([1,3,4],0)\n",
    "                 repetition_code_qc.mct([1,2,4],0)\n",
    "                 repetition_code_qc.mct([1,2,3],0)\n",
    "\n",
    "                 sim = Aer.get_backend('qasm_simulator') \n",
    "                 repetition_code_qc.measure(0,0)\n",
    "                 res= execute(repetition_code_qc, backend=sim, shots=64).result().get_counts()\n",
    "                 a.append(res)\n",
    "                 result.append(a)"
   ]
  },
  {
   "cell_type": "code",
   "execution_count": 7,
   "metadata": {
    "colab": {
     "base_uri": "https://localhost:8080/"
    },
    "id": "_xb0ThJtygcM",
    "outputId": "c2612b8c-a5f2-4b7e-8248-b30906311ff8"
   },
   "outputs": [
    {
     "data": {
      "text/plain": [
       "[['I', 'I', 'I', 'I', 'I', {'0': 64}],\n",
       " ['I', 'I', 'I', 'I', 'X', {'0': 64}],\n",
       " ['I', 'I', 'I', 'X', 'I', {'0': 64}],\n",
       " ['I', 'I', 'I', 'X', 'X', {'0': 64}],\n",
       " ['I', 'I', 'X', 'I', 'I', {'0': 64}],\n",
       " ['I', 'I', 'X', 'I', 'X', {'0': 64}],\n",
       " ['I', 'I', 'X', 'X', 'I', {'0': 64}],\n",
       " ['I', 'I', 'X', 'X', 'X', {'1': 64}],\n",
       " ['I', 'X', 'I', 'I', 'I', {'0': 64}],\n",
       " ['I', 'X', 'I', 'I', 'X', {'0': 64}],\n",
       " ['I', 'X', 'I', 'X', 'I', {'0': 64}],\n",
       " ['I', 'X', 'I', 'X', 'X', {'1': 64}],\n",
       " ['I', 'X', 'X', 'I', 'I', {'0': 64}],\n",
       " ['I', 'X', 'X', 'I', 'X', {'1': 64}],\n",
       " ['I', 'X', 'X', 'X', 'I', {'1': 64}],\n",
       " ['I', 'X', 'X', 'X', 'X', {'1': 64}],\n",
       " ['X', 'I', 'I', 'I', 'I', {'0': 64}],\n",
       " ['X', 'I', 'I', 'I', 'X', {'0': 64}],\n",
       " ['X', 'I', 'I', 'X', 'I', {'0': 64}],\n",
       " ['X', 'I', 'I', 'X', 'X', {'1': 64}],\n",
       " ['X', 'I', 'X', 'I', 'I', {'0': 64}],\n",
       " ['X', 'I', 'X', 'I', 'X', {'1': 64}],\n",
       " ['X', 'I', 'X', 'X', 'I', {'1': 64}],\n",
       " ['X', 'I', 'X', 'X', 'X', {'1': 64}],\n",
       " ['X', 'X', 'I', 'I', 'I', {'0': 64}],\n",
       " ['X', 'X', 'I', 'I', 'X', {'1': 64}],\n",
       " ['X', 'X', 'I', 'X', 'I', {'1': 64}],\n",
       " ['X', 'X', 'I', 'X', 'X', {'1': 64}],\n",
       " ['X', 'X', 'X', 'I', 'I', {'1': 64}],\n",
       " ['X', 'X', 'X', 'I', 'X', {'1': 64}],\n",
       " ['X', 'X', 'X', 'X', 'I', {'1': 64}],\n",
       " ['X', 'X', 'X', 'X', 'X', {'1': 64}]]"
      ]
     },
     "execution_count": 7,
     "metadata": {},
     "output_type": "execute_result"
    }
   ],
   "source": [
    "result"
   ]
  },
  {
   "cell_type": "code",
   "execution_count": 8,
   "metadata": {
    "colab": {
     "base_uri": "https://localhost:8080/"
    },
    "id": "7nXuahsDK5P1",
    "outputId": "7480f3ff-a57c-4230-e66d-49bde48bf41b"
   },
   "outputs": [
    {
     "name": "stdout",
     "output_type": "stream",
     "text": [
      "16\n"
     ]
    }
   ],
   "source": [
    "count=0\n",
    "corrected = []\n",
    "for c in result:\n",
    "    if c[5]=={'0': 64}:\n",
    "        count=count+1\n",
    "        corrected.append(c[:5])\n",
    "print(count)"
   ]
  },
  {
   "cell_type": "code",
   "execution_count": 9,
   "metadata": {
    "colab": {
     "base_uri": "https://localhost:8080/"
    },
    "id": "11jkm8kFh9pg",
    "outputId": "ea914aa8-9891-4c08-eb41-315481b2e7b9"
   },
   "outputs": [
    {
     "data": {
      "text/plain": [
       "32"
      ]
     },
     "execution_count": 9,
     "metadata": {},
     "output_type": "execute_result"
    }
   ],
   "source": [
    "len(result)"
   ]
  },
  {
   "cell_type": "code",
   "execution_count": 10,
   "metadata": {
    "colab": {
     "base_uri": "https://localhost:8080/"
    },
    "id": "Blm74BO8ULQu",
    "outputId": "159bbd95-f917-4816-8075-32e3d186b7b2"
   },
   "outputs": [
    {
     "data": {
      "text/plain": [
       "[['I', 'I', 'I', 'I', 'I'],\n",
       " ['I', 'I', 'I', 'I', 'X'],\n",
       " ['I', 'I', 'I', 'X', 'I'],\n",
       " ['I', 'I', 'I', 'X', 'X'],\n",
       " ['I', 'I', 'X', 'I', 'I'],\n",
       " ['I', 'I', 'X', 'I', 'X'],\n",
       " ['I', 'I', 'X', 'X', 'I'],\n",
       " ['I', 'X', 'I', 'I', 'I'],\n",
       " ['I', 'X', 'I', 'I', 'X'],\n",
       " ['I', 'X', 'I', 'X', 'I'],\n",
       " ['I', 'X', 'X', 'I', 'I'],\n",
       " ['X', 'I', 'I', 'I', 'I'],\n",
       " ['X', 'I', 'I', 'I', 'X'],\n",
       " ['X', 'I', 'I', 'X', 'I'],\n",
       " ['X', 'I', 'X', 'I', 'I'],\n",
       " ['X', 'X', 'I', 'I', 'I']]"
      ]
     },
     "execution_count": 10,
     "metadata": {},
     "output_type": "execute_result"
    }
   ],
   "source": [
    "corrected"
   ]
  },
  {
   "cell_type": "code",
   "execution_count": 11,
   "metadata": {
    "colab": {
     "base_uri": "https://localhost:8080/"
    },
    "id": "h4NWRKSciADR",
    "outputId": "de9f3e68-e487-4735-db1c-9574eaae12c6"
   },
   "outputs": [
    {
     "name": "stdout",
     "output_type": "stream",
     "text": [
      "{0: 1, 1: 5, 2: 10, 3: 0, 4: 0, 5: 0}\n"
     ]
    }
   ],
   "source": [
    "Summary= {0:0,1:0,2:0,3:0,4:0,5:0}\n",
    "for i in corrected:\n",
    "    count=0\n",
    "    for x in i:\n",
    "        if x==\"X\":\n",
    "            count=count+1\n",
    "    Summary[count]+=1\n",
    "\n",
    "print(Summary)"
   ]
  },
  {
   "cell_type": "code",
   "execution_count": 12,
   "metadata": {
    "id": "WqxbXfhKiCev"
   },
   "outputs": [],
   "source": [
    "p=linspace(0,0.5,21)\n",
    "fid1= (1-p)\n",
    "\n",
    "fid2=0\n",
    "fid3=0\n",
    "\n",
    "c1= {0: 1, 1: 3, 2: 0, 3: 0}\n",
    "c2= Summary\n",
    "\n",
    "for i in range(4):\n",
    "     fid2+= c1[i]*(p**i)*((1-p)**(3-i))\n",
    "for i in range(6):\n",
    "     fid3+= c2[i]*(p**i)*((1-p)**(5-i))"
   ]
  },
  {
   "cell_type": "code",
   "execution_count": 15,
   "metadata": {
    "colab": {
     "base_uri": "https://localhost:8080/",
     "height": 312
    },
    "id": "hEnvjEF6iHQY",
    "outputId": "808ec58e-aabd-45b5-aa9b-7a83c3ffa5d4"
   },
   "outputs": [
    {
     "data": {
      "text/plain": [
       "<matplotlib.legend.Legend at 0x7f32368dae50>"
      ]
     },
     "execution_count": 15,
     "metadata": {},
     "output_type": "execute_result"
    },
    {
     "data": {
      "image/png": "[encoded data removed]",
      "text/plain": [
       "<Figure size 432x288 with 1 Axes>"
      ]
     },
     "metadata": {
      "needs_background": "light"
     },
     "output_type": "display_data"
    }
   ],
   "source": [
    "plot(p,sqrt(fid1), label=\"without repetition code\")\n",
    "plot(p,sqrt(fid2), label=\"With 3-repetition code\")\n",
    "plot(p,sqrt(fid3), label=\"With 5-repetition code\")\n",
    "title(\"Theoretical Fidelity in bit flip channel\")\n",
    "xlabel(\"Bit flip probability\")\n",
    "ylabel(\"Fidelity\")\n",
    "grid()\n",
    "legend()"
   ]
  }
 ],
 "metadata": {
  "colab": {
   "name": "5QB.ipynb",
   "provenance": []
  },
  "kernelspec": {
   "display_name": "Python 3",
   "language": "python",
   "name": "python3"
  },
  "language_info": {
   "codemirror_mode": {
    "name": "ipython",
    "version": 3
   },
   "file_extension": ".py",
   "mimetype": "text/x-python",
   "name": "python",
   "nbconvert_exporter": "python",
   "pygments_lexer": "ipython3",
   "version": "3.8.8"
  }
 },
 "nbformat": 4,
 "nbformat_minor": 1
}
