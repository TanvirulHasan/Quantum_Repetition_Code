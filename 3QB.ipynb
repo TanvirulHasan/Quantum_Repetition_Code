{
  "nbformat": 4,
  "nbformat_minor": 0,
  "metadata": {
    "colab": {
      "provenance": []
    },
    "kernelspec": {
      "name": "python3",
      "display_name": "Python 3"
    },
    "language_info": {
      "name": "python"
    }
  },
  "cells": [
    {
      "cell_type": "code",
      "execution_count": null,
      "metadata": {
        "colab": {
          "base_uri": "https://localhost:8080/"
        },
        "id": "jxuON0uO9JYm",
        "outputId": "28996840-de21-4543-b4c3-8914cacd6292"
      },
      "outputs": [
        {
          "output_type": "stream",
          "name": "stdout",
          "text": [
            "Looking in indexes: https://pypi.org/simple, https://us-python.pkg.dev/colab-wheels/public/simple/\n",
            "Requirement already satisfied: qiskit in /usr/local/lib/python3.7/dist-packages (0.38.0)\n",
            "Requirement already satisfied: qiskit-terra==0.21.2 in /usr/local/lib/python3.7/dist-packages (from qiskit) (0.21.2)\n",
            "Requirement already satisfied: qiskit-ibmq-provider==0.19.2 in /usr/local/lib/python3.7/dist-packages (from qiskit) (0.19.2)\n",
            "Requirement already satisfied: qiskit-aer==0.11.0 in /usr/local/lib/python3.7/dist-packages (from qiskit) (0.11.0)\n",
            "Requirement already satisfied: numpy>=1.16.3 in /usr/local/lib/python3.7/dist-packages (from qiskit-aer==0.11.0->qiskit) (1.21.6)\n",
            "Requirement already satisfied: scipy>=1.0 in /usr/local/lib/python3.7/dist-packages (from qiskit-aer==0.11.0->qiskit) (1.7.3)\n",
            "Requirement already satisfied: requests-ntlm>=1.1.0 in /usr/local/lib/python3.7/dist-packages (from qiskit-ibmq-provider==0.19.2->qiskit) (1.1.0)\n",
            "Requirement already satisfied: urllib3>=1.21.1 in /usr/local/lib/python3.7/dist-packages (from qiskit-ibmq-provider==0.19.2->qiskit) (1.24.3)\n",
            "Requirement already satisfied: websockets>=10.0 in /usr/local/lib/python3.7/dist-packages (from qiskit-ibmq-provider==0.19.2->qiskit) (10.3)\n",
            "Requirement already satisfied: requests>=2.19 in /usr/local/lib/python3.7/dist-packages (from qiskit-ibmq-provider==0.19.2->qiskit) (2.23.0)\n",
            "Requirement already satisfied: websocket-client>=1.0.1 in /usr/local/lib/python3.7/dist-packages (from qiskit-ibmq-provider==0.19.2->qiskit) (1.4.1)\n",
            "Requirement already satisfied: python-dateutil>=2.8.0 in /usr/local/lib/python3.7/dist-packages (from qiskit-ibmq-provider==0.19.2->qiskit) (2.8.2)\n",
            "Requirement already satisfied: stevedore>=3.0.0 in /usr/local/lib/python3.7/dist-packages (from qiskit-terra==0.21.2->qiskit) (3.5.0)\n",
            "Requirement already satisfied: symengine>=0.9 in /usr/local/lib/python3.7/dist-packages (from qiskit-terra==0.21.2->qiskit) (0.9.2)\n",
            "Requirement already satisfied: retworkx>=0.11.0 in /usr/local/lib/python3.7/dist-packages (from qiskit-terra==0.21.2->qiskit) (0.11.0)\n",
            "Requirement already satisfied: tweedledum<2.0,>=1.1 in /usr/local/lib/python3.7/dist-packages (from qiskit-terra==0.21.2->qiskit) (1.1.1)\n",
            "Requirement already satisfied: sympy>=1.3 in /usr/local/lib/python3.7/dist-packages (from qiskit-terra==0.21.2->qiskit) (1.7.1)\n",
            "Requirement already satisfied: ply>=3.10 in /usr/local/lib/python3.7/dist-packages (from qiskit-terra==0.21.2->qiskit) (3.11)\n",
            "Requirement already satisfied: typing-extensions in /usr/local/lib/python3.7/dist-packages (from qiskit-terra==0.21.2->qiskit) (4.1.1)\n",
            "Requirement already satisfied: psutil>=5 in /usr/local/lib/python3.7/dist-packages (from qiskit-terra==0.21.2->qiskit) (5.4.8)\n",
            "Requirement already satisfied: dill>=0.3 in /usr/local/lib/python3.7/dist-packages (from qiskit-terra==0.21.2->qiskit) (0.3.5.1)\n",
            "Requirement already satisfied: shared-memory38 in /usr/local/lib/python3.7/dist-packages (from qiskit-terra==0.21.2->qiskit) (0.1.2)\n",
            "Requirement already satisfied: six>=1.5 in /usr/local/lib/python3.7/dist-packages (from python-dateutil>=2.8.0->qiskit-ibmq-provider==0.19.2->qiskit) (1.15.0)\n",
            "Requirement already satisfied: chardet<4,>=3.0.2 in /usr/local/lib/python3.7/dist-packages (from requests>=2.19->qiskit-ibmq-provider==0.19.2->qiskit) (3.0.4)\n",
            "Requirement already satisfied: idna<3,>=2.5 in /usr/local/lib/python3.7/dist-packages (from requests>=2.19->qiskit-ibmq-provider==0.19.2->qiskit) (2.10)\n",
            "Requirement already satisfied: certifi>=2017.4.17 in /usr/local/lib/python3.7/dist-packages (from requests>=2.19->qiskit-ibmq-provider==0.19.2->qiskit) (2022.6.15)\n",
            "Requirement already satisfied: ntlm-auth>=1.0.2 in /usr/local/lib/python3.7/dist-packages (from requests-ntlm>=1.1.0->qiskit-ibmq-provider==0.19.2->qiskit) (1.5.0)\n",
            "Requirement already satisfied: cryptography>=1.3 in /usr/local/lib/python3.7/dist-packages (from requests-ntlm>=1.1.0->qiskit-ibmq-provider==0.19.2->qiskit) (38.0.1)\n",
            "Requirement already satisfied: cffi>=1.12 in /usr/local/lib/python3.7/dist-packages (from cryptography>=1.3->requests-ntlm>=1.1.0->qiskit-ibmq-provider==0.19.2->qiskit) (1.15.1)\n",
            "Requirement already satisfied: pycparser in /usr/local/lib/python3.7/dist-packages (from cffi>=1.12->cryptography>=1.3->requests-ntlm>=1.1.0->qiskit-ibmq-provider==0.19.2->qiskit) (2.21)\n",
            "Requirement already satisfied: importlib-metadata>=1.7.0 in /usr/local/lib/python3.7/dist-packages (from stevedore>=3.0.0->qiskit-terra==0.21.2->qiskit) (4.12.0)\n",
            "Requirement already satisfied: pbr!=2.1.0,>=2.0.0 in /usr/local/lib/python3.7/dist-packages (from stevedore>=3.0.0->qiskit-terra==0.21.2->qiskit) (5.10.0)\n",
            "Requirement already satisfied: zipp>=0.5 in /usr/local/lib/python3.7/dist-packages (from importlib-metadata>=1.7.0->stevedore>=3.0.0->qiskit-terra==0.21.2->qiskit) (3.8.1)\n",
            "Requirement already satisfied: mpmath>=0.19 in /usr/local/lib/python3.7/dist-packages (from sympy>=1.3->qiskit-terra==0.21.2->qiskit) (1.2.1)\n",
            "Looking in indexes: https://pypi.org/simple, https://us-python.pkg.dev/colab-wheels/public/simple/\n",
            "Requirement already satisfied: pylatexenc in /usr/local/lib/python3.7/dist-packages (2.10)\n"
          ]
        }
      ],
      "source": [
        "!pip install qiskit\n",
        "!pip install pylatexenc"
      ]
    },
    {
      "cell_type": "code",
      "source": [
        "from numpy import *\n",
        "from matplotlib.pyplot import *"
      ],
      "metadata": {
        "id": "1RuvoYQX-P91"
      },
      "execution_count": null,
      "outputs": []
    },
    {
      "cell_type": "code",
      "source": [
        "from qiskit import QuantumRegister, ClassicalRegister, IBMQ\n",
        "from qiskit import QuantumCircuit, Aer, transpile, assemble, execute\n",
        "from qiskit.tools.jupyter import *\n",
        "from qiskit.visualization import *\n",
        "from qiskit.providers.aer import QasmSimulator"
      ],
      "metadata": {
        "id": "ABtoxY7S-TTz"
      },
      "execution_count": null,
      "outputs": []
    },
    {
      "cell_type": "code",
      "source": [
        "#@title \n",
        "cl= ClassicalRegister(3,\"measure\")\n",
        "alice_qubit= QuantumRegister(1, 'alice__qubit')\n",
        "\n",
        "#lq1= QuantumRegister(3, 'logical_qubit_alice')\n",
        "#ancilla1= QuantumRegister(2, 'anicilla_qubit_alice')\n",
        "#repetation_code_qc= QuantumCircuit(alice_qubit,lq1,ancilla1,lq2,ancilla2,cr)\n",
        "#repetation_code_qc= QuantumCircuit(alice_qubit,lq1,lq2,cr)\n",
        "\n",
        "ancilla_qubit= QuantumRegister(2, 'ancilla_qubit_alice')\n",
        "rep_ckt= QuantumCircuit(alice_qubit, ancilla_qubit, cl)\n",
        "\n",
        "#Encoding\n",
        "rep_ckt.cx(alice_qubit, ancilla_qubit)\n",
        "rep_ckt.barrier()\n",
        "\n",
        "#repetition_code_qc.h(alice_qubit[0])\n",
        "#repetition_code_qc.barrier()\n",
        "#repetition_code_qc.cx(alice_qubit,lq1)\n",
        "#repetition_code_qc.barrier()\n",
        "\n",
        "rep_ckt.x([1])\n",
        "rep_ckt.barrier()\n",
        "\n",
        "#Decoding\n",
        "rep_ckt.cx(alice_qubit, ancilla_qubit)\n",
        "rep_ckt.mct([1,2],0)\n",
        "\n",
        "\n",
        "# avoid the gates being combined\n",
        "rep_ckt.barrier()\n",
        "\n",
        "rep_ckt.measure([0,1,2], cl[::-1])\n",
        "\n",
        "rep_ckt.draw(output='mpl')"
      ],
      "metadata": {
        "colab": {
          "base_uri": "https://localhost:8080/",
          "height": 231
        },
        "id": "jADbOqPc-c0D",
        "outputId": "23c00f72-8819-42a7-e0ea-19b52a3763f2"
      },
      "execution_count": null,
      "outputs": [
        {
          "output_type": "execute_result",
          "data": {
            "text/plain": [
              "<Figure size 987.119x264.88 with 1 Axes>"
            ],
            "image/png": "[encoded data removed]"
          },
          "metadata": {},
          "execution_count": 37
        }
      ]
    },
    {
      "cell_type": "code",
      "source": [
        "sim = Aer.get_backend('qasm_simulator') \n",
        "res= execute(rep_ckt, backend=sim, shots=64).result().get_counts()\n",
        "print(res)"
      ],
      "metadata": {
        "colab": {
          "base_uri": "https://localhost:8080/"
        },
        "id": "dgiRmRpZOmWO",
        "outputId": "9cb19aaa-75fe-4981-edb4-2f9eb16837dd"
      },
      "execution_count": null,
      "outputs": [
        {
          "output_type": "stream",
          "name": "stdout",
          "text": [
            "{'010': 64}\n"
          ]
        }
      ]
    },
    {
      "cell_type": "code",
      "source": [
        "result=[]\n",
        "for a1 in range(2):\n",
        "      for a2 in range(2):\n",
        "           for a3 in range(2):\n",
        "                     a=[\"I\",\"I\",\"I\"]\n",
        "                                            \n",
        "                     alice_qubit= QuantumRegister(1, 'alice__qubit')\n",
        "                     lq1= QuantumRegister(2, 'ancilla_qubit_alice')\n",
        "                     cr= ClassicalRegister(1)\n",
        "                     repetition_code_qc= QuantumCircuit(alice_qubit, ancilla_qubit, cr)\n",
        "                                            \n",
        "                     #Encoding \n",
        "                                              \n",
        "                     rep_ckt.cx(alice_qubit, ancilla_qubit)\n",
        "                     rep_ckt.barrier()\n",
        "\n",
        "                     #repetition_code_qc.h(alice_qubit[0])\n",
        "                     #repetition_code_qc.barrier()\n",
        "                     #repetition_code_qc.cx(alice_qubit,lq1)\n",
        "                     #repetition_code_qc.barrier()\n",
        "                                            \n",
        "                     repetition_code_qc.barrier()\n",
        "                                            \n",
        "                     if a1:\n",
        "                       a[0]=\"X\"\n",
        "                       repetition_code_qc.x(0)\n",
        "                     if a2:\n",
        "                       a[1]=\"X\"\n",
        "                       repetition_code_qc.x(1)\n",
        "                     if a3:\n",
        "                       a[2]=\"X\"\n",
        "                       repetition_code_qc.x(2)\n",
        "                                            \n",
        "                     #Decoding \n",
        "\n",
        "                     repetition_code_qc.cx(alice_qubit, ancilla_qubit)\n",
        "                     repetition_code_qc.mct([1,2],0)\n",
        "                                          \n",
        "                     sim = Aer.get_backend('qasm_simulator') \n",
        "                     #repetition_code_qc.measure(alice_qubit[0,0,0], lq1[0], lq1[1], cr[2])\n",
        "                     repetition_code_qc.measure(0,0)\n",
        "                     res= execute(repetition_code_qc, backend=sim, shots=64).result().get_counts()\n",
        "                     \n",
        "                     a.append(res)\n",
        "                     result.append(a)\n",
        "                     \n",
        "                    "
      ],
      "metadata": {
        "id": "ZdcKpqp1-doE"
      },
      "execution_count": null,
      "outputs": []
    },
    {
      "cell_type": "code",
      "source": [
        "result"
      ],
      "metadata": {
        "id": "tnREZ84V-l3z",
        "colab": {
          "base_uri": "https://localhost:8080/"
        },
        "outputId": "fdb4cd7e-7ceb-4320-c658-bd9b5a974a18"
      },
      "execution_count": null,
      "outputs": [
        {
          "output_type": "execute_result",
          "data": {
            "text/plain": [
              "[['I', 'I', 'I', {'0': 64}],\n",
              " ['I', 'I', 'X', {'0': 64}],\n",
              " ['I', 'X', 'I', {'0': 64}],\n",
              " ['I', 'X', 'X', {'1': 64}],\n",
              " ['X', 'I', 'I', {'0': 64}],\n",
              " ['X', 'I', 'X', {'1': 64}],\n",
              " ['X', 'X', 'I', {'1': 64}],\n",
              " ['X', 'X', 'X', {'1': 64}]]"
            ]
          },
          "metadata": {},
          "execution_count": 40
        }
      ]
    },
    {
      "cell_type": "code",
      "source": [
        "count=0\n",
        "corrected = []\n",
        "for c in result:\n",
        "    if c[3]=={'0': 64}:\n",
        "        count=count+1\n",
        "        corrected.append(c[:3])\n",
        "print(count)"
      ],
      "metadata": {
        "colab": {
          "base_uri": "https://localhost:8080/"
        },
        "id": "LFcOz3XCO4Md",
        "outputId": "190f3074-1d5e-461f-ca34-13dcc8ec7585"
      },
      "execution_count": null,
      "outputs": [
        {
          "output_type": "stream",
          "name": "stdout",
          "text": [
            "4\n"
          ]
        }
      ]
    },
    {
      "cell_type": "code",
      "source": [
        "corrected"
      ],
      "metadata": {
        "colab": {
          "base_uri": "https://localhost:8080/"
        },
        "id": "GZ4zb4omO8_1",
        "outputId": "51a0d0fe-753d-4854-9dea-645439176e2a"
      },
      "execution_count": null,
      "outputs": [
        {
          "output_type": "execute_result",
          "data": {
            "text/plain": [
              "[['I', 'I', 'I'], ['I', 'I', 'X'], ['I', 'X', 'I'], ['X', 'I', 'I']]"
            ]
          },
          "metadata": {},
          "execution_count": 42
        }
      ]
    },
    {
      "cell_type": "code",
      "source": [
        "Summary= {0:0,1:0,2:0,3:0}\n",
        "for i in corrected:\n",
        "    count=0\n",
        "    for x in i:\n",
        "        if x==\"X\":\n",
        "            count=count+1\n",
        "    Summary[count]+=1\n",
        "\n",
        "print(Summary)"
      ],
      "metadata": {
        "colab": {
          "base_uri": "https://localhost:8080/"
        },
        "id": "W7TcFgVjO--W",
        "outputId": "fef77cdc-5599-4c65-90d6-9849ae6a153f"
      },
      "execution_count": null,
      "outputs": [
        {
          "output_type": "stream",
          "name": "stdout",
          "text": [
            "{0: 1, 1: 3, 2: 0, 3: 0}\n"
          ]
        }
      ]
    },
    {
      "cell_type": "code",
      "source": [
        "p=linspace(0,0.5,21)\n",
        "fid1= (1-p) # No repetition code\n",
        "\n",
        "fid2=0\n",
        "fid3=0\n",
        "\n",
        "c1=  Summary\n",
        "\n",
        "for i in range(4):\n",
        "     fid2+= c1[i]*(p**i)*((1-p)**(3-i))\n"
      ],
      "metadata": {
        "id": "9TbLiaHTPIJc"
      },
      "execution_count": null,
      "outputs": []
    },
    {
      "cell_type": "code",
      "source": [
        "plot(p,sqrt(fid1), label=\"without repetition code\")\n",
        "plot(p,sqrt(fid2), label=\"With 3-repetition code\")\n",
        "title(\"Theoretical Fidelity in bit flip channel\")\n",
        "xlabel(\"Bit flip probability\")\n",
        "ylabel(\"Fidelity\")\n",
        "grid()\n",
        "legend()"
      ],
      "metadata": {
        "id": "61XFNwRS-tgL",
        "colab": {
          "base_uri": "https://localhost:8080/",
          "height": 312
        },
        "outputId": "93e8eb7f-d1d0-45fd-e2c4-4c25d9546d7c"
      },
      "execution_count": null,
      "outputs": [
        {
          "output_type": "execute_result",
          "data": {
            "text/plain": [
              "<matplotlib.legend.Legend at 0x7f678c1115d0>"
            ]
          },
          "metadata": {},
          "execution_count": 45
        },
        {
          "output_type": "display_data",
          "data": {
            "text/plain": [
              "<Figure size 432x288 with 1 Axes>"
            ],
            "image/png": "[encoded data removed]"
          },
          "metadata": {
            "needs_background": "light"
          }
        }
      ]
    }
  ]
}